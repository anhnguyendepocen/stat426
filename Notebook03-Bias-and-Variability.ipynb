{
 "cells": [
  {
   "cell_type": "markdown",
   "metadata": {},
   "source": [
    "# Notebook 3 - Bias and Variability of Estimators"
   ]
  },
  {
   "cell_type": "code",
   "execution_count": 1,
   "metadata": {},
   "outputs": [],
   "source": [
    "#@title Imports\n",
    "!pip install -q symbulate\n",
    "from symbulate import *\n",
    "\n",
    "import matplotlib.pyplot as plt\n",
    "\n",
    "%matplotlib inline"
   ]
  },
  {
   "cell_type": "code",
   "execution_count": 2,
   "metadata": {},
   "outputs": [],
   "source": [
    "#@title Define Plotting Functions\n",
    "\n",
    "def plot_discrete_function(f, xlim=(0, 10), xlabel=r\"$\\theta$\", ylabel=\"Likelihood\"):\n",
    "    xs = np.arange(np.ceil(xlim[0]), np.floor(xlim[1]) + 1, dtype=int)\n",
    "    ys = [f(x) for x in xs]\n",
    "    plt.plot(xs, ys, \"ko-\")\n",
    "    plt.xlabel(xlabel, fontsize=18)\n",
    "    plt.ylabel(ylabel, fontsize=18)\n",
    "    plt.xlim(*xlim)\n",
    "\n",
    "def plot_continuous_function(f, xlim=(0, 1), xlabel=r\"$\\theta$\", ylabel=\"Likelihood\"):\n",
    "    xs = np.linspace(xlim[0], xlim[1], 1000)\n",
    "    ys = [f(x) for x in xs]\n",
    "    plt.plot(xs, ys, \"-\")\n",
    "    plt.xlabel(xlabel, fontsize=18)\n",
    "    plt.ylabel(ylabel, fontsize=18)\n",
    "    plt.xlim(*xlim)"
   ]
  },
  {
   "cell_type": "markdown",
   "metadata": {},
   "source": [
    "## Exer 3.1"
   ]
  },
  {
   "cell_type": "code",
   "execution_count": 3,
   "metadata": {},
   "outputs": [
    {
     "data": {
      "text/html": [
       "\n",
       "    <table>\n",
       "      <thead>\n",
       "        <th width=\"10%\">Index</th>\n",
       "        <th width=\"90%\">Result</th>\n",
       "      </thead>\n",
       "      <tbody>\n",
       "        \n",
       "        <tr>\n",
       "          <td>0</td><td>(3, 4, 4)</td>\n",
       "        </tr>\n",
       "        \n",
       "        <tr>\n",
       "          <td>1</td><td>(5, 3, 1)</td>\n",
       "        </tr>\n",
       "        \n",
       "        <tr>\n",
       "          <td>2</td><td>(3, 1, 2)</td>\n",
       "        </tr>\n",
       "        \n",
       "        <tr>\n",
       "          <td>3</td><td>(6, 2, 3)</td>\n",
       "        </tr>\n",
       "        \n",
       "        <tr>\n",
       "          <td>4</td><td>(2, 5, 3)</td>\n",
       "        </tr>\n",
       "        \n",
       "        <tr>\n",
       "          <td>5</td><td>(2, 2, 0)</td>\n",
       "        </tr>\n",
       "        \n",
       "        <tr>\n",
       "          <td>6</td><td>(2, 3, 1)</td>\n",
       "        </tr>\n",
       "        \n",
       "        <tr>\n",
       "          <td>7</td><td>(0, 5, 5)</td>\n",
       "        </tr>\n",
       "        \n",
       "        <tr>\n",
       "          <td>8</td><td>(0, 3, 3)</td>\n",
       "        </tr>\n",
       "        <tr><td>...</td><td>...</td></tr>\n",
       "        <tr>\n",
       "          <td>9</td><td>(5, 1, 2)</td>\n",
       "        </tr>\n",
       "        \n",
       "      </tbody>\n",
       "    </table>\n",
       "        "
      ],
      "text/plain": [
       "<symbulate.results.Results at 0x223a10c0278>"
      ]
     },
     "execution_count": 3,
     "metadata": {},
     "output_type": "execute_result"
    }
   ],
   "source": [
    "n = 3\n",
    "mu = 2.3\n",
    "\n",
    "P = Poisson(mu) ** n\n",
    "P.sim(10)"
   ]
  },
  {
   "cell_type": "code",
   "execution_count": 4,
   "metadata": {},
   "outputs": [],
   "source": [
    "Xbar = RV(P, mean)\n",
    "Muhat_e = 2.3"
   ]
  },
  {
   "cell_type": "markdown",
   "metadata": {},
   "source": [
    "### Note: `var` in Symbulate returns $\\frac{1}{n}\\sum_{i=1}^n (x_i - \\bar{x})^2$.  That is, $1/n$, so `var` in Symbulate corresponds to $\\hat{\\sigma}^2$ rather than $S^2$."
   ]
  },
  {
   "cell_type": "code",
   "execution_count": 5,
   "metadata": {},
   "outputs": [
    {
     "data": {
      "text/html": [
       "\n",
       "    <table>\n",
       "      <thead>\n",
       "        <th width=\"10%\">Index</th>\n",
       "        <th width=\"90%\">Result</th>\n",
       "      </thead>\n",
       "      <tbody>\n",
       "        \n",
       "        <tr>\n",
       "          <td>0</td><td>((1, 2, 1), 1.3333333333333333, 0.2222222222222222, 0.3333333333333333, 2.3)</td>\n",
       "        </tr>\n",
       "        \n",
       "        <tr>\n",
       "          <td>1</td><td>((1, 0, 0), 0.3333333333333333, 0.22222222222222224, 0.33333333333333337, 2.3)</td>\n",
       "        </tr>\n",
       "        \n",
       "        <tr>\n",
       "          <td>2</td><td>((3, 2, 4), 3.0, 0.6666666666666666, 1.0, 2.3)</td>\n",
       "        </tr>\n",
       "        \n",
       "        <tr>\n",
       "          <td>3</td><td>((0, 3, 4), 2.3333333333333335, 2.8888888888888893, 4.333333333333334, 2.3)</td>\n",
       "        </tr>\n",
       "        \n",
       "        <tr>\n",
       "          <td>4</td><td>((3, 3, 1), 2.3333333333333335, 0.8888888888888888, 1.3333333333333333, 2.3)</td>\n",
       "        </tr>\n",
       "        \n",
       "        <tr>\n",
       "          <td>5</td><td>((1, 4, 2), 2.3333333333333335, 1.5555555555555556, 2.3333333333333335, 2.3)</td>\n",
       "        </tr>\n",
       "        \n",
       "        <tr>\n",
       "          <td>6</td><td>((0, 2, 3), 1.6666666666666667, 1.5555555555555556, 2.3333333333333335, 2.3)</td>\n",
       "        </tr>\n",
       "        \n",
       "        <tr>\n",
       "          <td>7</td><td>((0, 0, 1), 0.3333333333333333, 0.22222222222222224, 0.33333333333333337, 2.3)</td>\n",
       "        </tr>\n",
       "        \n",
       "        <tr>\n",
       "          <td>8</td><td>((3, 0, 2), 1.6666666666666667, 1.5555555555555554, 2.333333333333333, 2.3)</td>\n",
       "        </tr>\n",
       "        <tr><td>...</td><td>...</td></tr>\n",
       "        <tr>\n",
       "          <td>9</td><td>((3, 3, 0), 2.0, 2.0, 3.0, 2.3)</td>\n",
       "        </tr>\n",
       "        \n",
       "      </tbody>\n",
       "    </table>\n",
       "        "
      ],
      "text/plain": [
       "<symbulate.results.RVResults at 0x223a10caa90>"
      ]
     },
     "execution_count": 5,
     "metadata": {},
     "output_type": "execute_result"
    }
   ],
   "source": [
    "Sigmahat2 = RV(P, var)\n",
    "S2 = Sigmahat2 * n / (n - 1)\n",
    "\n",
    "\n",
    "(RV(P) & Xbar & Sigmahat2 & S2 & Muhat_e).sim(10)"
   ]
  },
  {
   "cell_type": "markdown",
   "metadata": {},
   "source": [
    "$\\hat{\\mu}_d$ is not defined if there are no 0s in the sample"
   ]
  },
  {
   "cell_type": "code",
   "execution_count": 6,
   "metadata": {},
   "outputs": [
    {
     "data": {
      "text/html": [
       "\n",
       "    <table>\n",
       "      <thead>\n",
       "        <th width=\"10%\">Index</th>\n",
       "        <th width=\"90%\">Result</th>\n",
       "      </thead>\n",
       "      <tbody>\n",
       "        \n",
       "        <tr>\n",
       "          <td>0</td><td>((0, 3, 2), 1.0986122886681098)</td>\n",
       "        </tr>\n",
       "        \n",
       "        <tr>\n",
       "          <td>1</td><td>((3, 5, 0), 1.0986122886681098)</td>\n",
       "        </tr>\n",
       "        \n",
       "        <tr>\n",
       "          <td>2</td><td>((6, 4, 0), 1.0986122886681098)</td>\n",
       "        </tr>\n",
       "        \n",
       "        <tr>\n",
       "          <td>3</td><td>((0, 7, 0), 0.40546510810816444)</td>\n",
       "        </tr>\n",
       "        \n",
       "        <tr>\n",
       "          <td>4</td><td>((0, 2, 5), 1.0986122886681098)</td>\n",
       "        </tr>\n",
       "        \n",
       "        <tr>\n",
       "          <td>5</td><td>((0, 2, 5), 1.0986122886681098)</td>\n",
       "        </tr>\n",
       "        \n",
       "        <tr>\n",
       "          <td>6</td><td>((4, 2, 0), 1.0986122886681098)</td>\n",
       "        </tr>\n",
       "        \n",
       "        <tr>\n",
       "          <td>7</td><td>((0, 2, 3), 1.0986122886681098)</td>\n",
       "        </tr>\n",
       "        \n",
       "        <tr>\n",
       "          <td>8</td><td>((0, 3, 0), 0.40546510810816444)</td>\n",
       "        </tr>\n",
       "        <tr><td>...</td><td>...</td></tr>\n",
       "        <tr>\n",
       "          <td>9</td><td>((2, 0, 2), 1.0986122886681098)</td>\n",
       "        </tr>\n",
       "        \n",
       "      </tbody>\n",
       "    </table>\n",
       "        "
      ],
      "text/plain": [
       "<symbulate.results.RVResults at 0x223a10dd160>"
      ]
     },
     "execution_count": 6,
     "metadata": {},
     "output_type": "execute_result"
    }
   ],
   "source": [
    "N0 = RV(P, count_eq(0))\n",
    "Muhat_d = -log(N0 / n)\n",
    "( (RV(P) & Muhat_d) | (N0 > 0) ).sim(10)"
   ]
  },
  {
   "cell_type": "markdown",
   "metadata": {},
   "source": [
    "## Exer 3.2"
   ]
  },
  {
   "cell_type": "code",
   "execution_count": 7,
   "metadata": {},
   "outputs": [
    {
     "data": {
      "text/html": [
       "\n",
       "    <table>\n",
       "      <thead>\n",
       "        <th width=\"10%\">Index</th>\n",
       "        <th width=\"90%\">Result</th>\n",
       "      </thead>\n",
       "      <tbody>\n",
       "        \n",
       "        <tr>\n",
       "          <td>0</td><td>1.6666666666666667</td>\n",
       "        </tr>\n",
       "        \n",
       "        <tr>\n",
       "          <td>1</td><td>0.6666666666666666</td>\n",
       "        </tr>\n",
       "        \n",
       "        <tr>\n",
       "          <td>2</td><td>2.3333333333333335</td>\n",
       "        </tr>\n",
       "        \n",
       "        <tr>\n",
       "          <td>3</td><td>3.3333333333333335</td>\n",
       "        </tr>\n",
       "        \n",
       "        <tr>\n",
       "          <td>4</td><td>2.6666666666666665</td>\n",
       "        </tr>\n",
       "        \n",
       "        <tr>\n",
       "          <td>5</td><td>1.3333333333333333</td>\n",
       "        </tr>\n",
       "        \n",
       "        <tr>\n",
       "          <td>6</td><td>3.6666666666666665</td>\n",
       "        </tr>\n",
       "        \n",
       "        <tr>\n",
       "          <td>7</td><td>0.6666666666666666</td>\n",
       "        </tr>\n",
       "        \n",
       "        <tr>\n",
       "          <td>8</td><td>3.6666666666666665</td>\n",
       "        </tr>\n",
       "        <tr><td>...</td><td>...</td></tr>\n",
       "        <tr>\n",
       "          <td>9999</td><td>3.3333333333333335</td>\n",
       "        </tr>\n",
       "        \n",
       "      </tbody>\n",
       "    </table>\n",
       "        "
      ],
      "text/plain": [
       "<symbulate.results.RVResults at 0x223a10ca908>"
      ]
     },
     "execution_count": 7,
     "metadata": {},
     "output_type": "execute_result"
    }
   ],
   "source": [
    "xbar = Xbar.sim(10000)\n",
    "xbar"
   ]
  },
  {
   "cell_type": "code",
   "execution_count": 8,
   "metadata": {},
   "outputs": [
    {
     "data": {
      "text/html": [
       "\n",
       "<table>\n",
       "  <thead>\n",
       "    <th width=\"80%\">Outcome</th>\n",
       "    <th width=\"20%\">Value</th>\n",
       "  </thead>\n",
       "  <tbody>\n",
       "    <tr><td>0.0</td><td>9</td></tr><tr><td>0.3333333333333333</td><td>71</td></tr><tr><td>0.6666666666666666</td><td>242</td></tr><tr><td>1.0</td><td>552</td></tr><tr><td>1.3333333333333333</td><td>939</td></tr><tr><td>1.6666666666666667</td><td>1372</td></tr><tr><td>2.0</td><td>1517</td></tr><tr><td>2.3333333333333335</td><td>1478</td></tr><tr><td>2.6666666666666665</td><td>1240</td></tr><tr><td>3.0</td><td>975</td></tr><tr><td>3.3333333333333335</td><td>667</td></tr><tr><td>3.6666666666666665</td><td>425</td></tr><tr><td>4.0</td><td>235</td></tr><tr><td>4.333333333333333</td><td>142</td></tr><tr><td>4.666666666666667</td><td>75</td></tr><tr><td>5.0</td><td>37</td></tr><tr><td>5.333333333333333</td><td>12</td></tr><tr><td>5.666666666666667</td><td>7</td></tr><tr><td>6.0</td><td>2</td></tr><tr><td>...</td><td>...</td></tr><tr><td>6.666666666666667</td><td>1</td></tr><tr><td><b>Total</b></td><td><b>10000</b></td></tr>\n",
       "  </tbody>\n",
       "</table>\n"
      ],
      "text/plain": [
       "{0.0: 9,\n",
       " 0.3333333333333333: 71,\n",
       " 0.6666666666666666: 242,\n",
       " 1.0: 552,\n",
       " 1.3333333333333333: 939,\n",
       " 1.6666666666666667: 1372,\n",
       " 2.0: 1517,\n",
       " 2.3333333333333335: 1478,\n",
       " 2.6666666666666665: 1240,\n",
       " 3.0: 975,\n",
       " 3.3333333333333335: 667,\n",
       " 3.6666666666666665: 425,\n",
       " 4.0: 235,\n",
       " 4.333333333333333: 142,\n",
       " 4.666666666666667: 75,\n",
       " 5.0: 37,\n",
       " 5.333333333333333: 12,\n",
       " 5.666666666666667: 7,\n",
       " 6.0: 2,\n",
       " 6.333333333333333: 2,\n",
       " 6.666666666666667: 1}"
      ]
     },
     "execution_count": 8,
     "metadata": {},
     "output_type": "execute_result"
    }
   ],
   "source": [
    "xbar.tabulate()"
   ]
  },
  {
   "cell_type": "code",
   "execution_count": 9,
   "metadata": {},
   "outputs": [
    {
     "data": {
      "image/png": "[encoded data removed]",
      "text/plain": [
       "<Figure size 432x288 with 1 Axes>"
      ]
     },
     "metadata": {
      "needs_background": "light"
     },
     "output_type": "display_data"
    }
   ],
   "source": [
    "xbar.plot()"
   ]
  },
  {
   "cell_type": "code",
   "execution_count": 10,
   "metadata": {},
   "outputs": [
    {
     "data": {
      "text/plain": [
       "(0.0009, 0.0010077854290485113)"
      ]
     },
     "execution_count": 10,
     "metadata": {},
     "output_type": "execute_result"
    }
   ],
   "source": [
    "xbar.count_eq(0) / xbar.count(), Poisson(n * mu).pmf(n * 0)"
   ]
  },
  {
   "cell_type": "code",
   "execution_count": 11,
   "metadata": {},
   "outputs": [
    {
     "data": {
      "text/plain": [
       "(0.0071, 0.006953719460434728)"
      ]
     },
     "execution_count": 11,
     "metadata": {},
     "output_type": "execute_result"
    }
   ],
   "source": [
    "xbar.count_eq(1 / 3) / xbar.count(), Poisson(n * mu).pmf(n * 1 / 3)"
   ]
  },
  {
   "cell_type": "code",
   "execution_count": 12,
   "metadata": {},
   "outputs": [
    {
     "data": {
      "text/plain": [
       "(0.0242, 0.0239903321384998)"
      ]
     },
     "execution_count": 12,
     "metadata": {},
     "output_type": "execute_result"
    }
   ],
   "source": [
    "xbar.count_eq(2 / 3) / xbar.count(), Poisson(n * mu).pmf(n * 2 / 3)"
   ]
  },
  {
   "cell_type": "code",
   "execution_count": 13,
   "metadata": {},
   "outputs": [
    {
     "data": {
      "text/plain": [
       "2.2996999999999996"
      ]
     },
     "execution_count": 13,
     "metadata": {},
     "output_type": "execute_result"
    }
   ],
   "source": [
    "xbar.mean()"
   ]
  },
  {
   "cell_type": "code",
   "execution_count": 14,
   "metadata": {},
   "outputs": [
    {
     "data": {
      "text/plain": [
       "0.7841910211111112"
      ]
     },
     "execution_count": 14,
     "metadata": {},
     "output_type": "execute_result"
    }
   ],
   "source": [
    "xbar.var()"
   ]
  },
  {
   "cell_type": "markdown",
   "metadata": {},
   "source": [
    "## Widget might not work in Colab"
   ]
  },
  {
   "cell_type": "code",
   "execution_count": 15,
   "metadata": {},
   "outputs": [
    {
     "data": {
      "application/vnd.jupyter.widget-view+json": {
       "model_id": "7807643565e14284a4440a8742352bc4",
       "version_major": 2,
       "version_minor": 0
      },
      "text/plain": [
       "interactive(children=(FloatSlider(value=1.0, description='mu', max=10.0, min=0.01, step=0.01), IntSlider(value…"
      ]
     },
     "metadata": {},
     "output_type": "display_data"
    }
   ],
   "source": [
    "from ipywidgets import interactive\n",
    "import ipywidgets as widgets\n",
    "\n",
    "def f(mu, n):\n",
    "    x = RV(Poisson(mu) ** n, mean).sim(10000)\n",
    "    x.plot()\n",
    "    plt.xlabel(\"Sample mean\")\n",
    "    plt.ylabel(\"Relative frequency of samples\")\n",
    "    plt.title(r\"Poisson($\\mu$): Sampling distribution of $\\bar{X}$\" +\n",
    "              \"\\n Expected value when $n=%s$\" % n +\n",
    "              \" and $\\mu=%s$\" % mu\n",
    "              + r\" is $%s$\" % round(x.mean(),0))\n",
    "    \n",
    "    # draw vertical strip at expected value\n",
    "    plt.axvline(x.mean(), 0, 1, alpha=.3, linewidth=4, color=\"orange\")\n",
    "    plt.show()\n",
    "\n",
    "interactive_plot = interactive(f, mu=widgets.FloatSlider(value=1, max=10, min=0.01, step=0.01),\n",
    "                               n=widgets.IntSlider(value=3, max=10, min=1))\n",
    "output = interactive_plot.children[-1]\n",
    "output.layout.height = '350px'\n",
    "interactive_plot"
   ]
  },
  {
   "cell_type": "markdown",
   "metadata": {},
   "source": [
    "## Exer 3.3"
   ]
  },
  {
   "cell_type": "code",
   "execution_count": 16,
   "metadata": {},
   "outputs": [
    {
     "data": {
      "text/html": [
       "\n",
       "<table>\n",
       "  <thead>\n",
       "    <th width=\"80%\">Outcome</th>\n",
       "    <th width=\"20%\">Value</th>\n",
       "  </thead>\n",
       "  <tbody>\n",
       "    <tr><td>0.0</td><td>417</td></tr><tr><td>0.3333333333333333</td><td>932</td></tr><tr><td>0.33333333333333337</td><td>1201</td></tr><tr><td>1.0</td><td>1611</td></tr><tr><td>1.3333333333333333</td><td>719</td></tr><tr><td>1.3333333333333335</td><td>636</td></tr><tr><td>2.333333333333333</td><td>950</td></tr><tr><td>2.3333333333333335</td><td>777</td></tr><tr><td>3.0</td><td>562</td></tr><tr><td>4.0</td><td>375</td></tr><tr><td>4.333333333333333</td><td>205</td></tr><tr><td>4.333333333333334</td><td>475</td></tr><tr><td>5.333333333333333</td><td>15</td></tr><tr><td>5.333333333333334</td><td>246</td></tr><tr><td>6.333333333333334</td><td>266</td></tr><tr><td>7.0</td><td>233</td></tr><tr><td>8.333333333333332</td><td>27</td></tr><tr><td>8.333333333333334</td><td>56</td></tr><tr><td>9.0</td><td>40</td></tr><tr><td>...</td><td>...</td></tr><tr><td>28.0</td><td>2</td></tr><tr><td><b>Total</b></td><td><b>10000</b></td></tr>\n",
       "  </tbody>\n",
       "</table>\n"
      ],
      "text/plain": [
       "{0.0: 417,\n",
       " 0.3333333333333333: 932,\n",
       " 0.33333333333333337: 1201,\n",
       " 1.0: 1611,\n",
       " 1.3333333333333333: 719,\n",
       " 1.3333333333333335: 636,\n",
       " 2.333333333333333: 950,\n",
       " 2.3333333333333335: 777,\n",
       " 3.0: 562,\n",
       " 4.0: 375,\n",
       " 4.333333333333333: 205,\n",
       " 4.333333333333334: 475,\n",
       " 5.333333333333333: 15,\n",
       " 5.333333333333334: 246,\n",
       " 6.333333333333334: 266,\n",
       " 7.0: 233,\n",
       " 8.333333333333332: 27,\n",
       " 8.333333333333334: 56,\n",
       " 9.0: 40,\n",
       " 9.333333333333332: 20,\n",
       " 9.333333333333334: 44,\n",
       " 10.333333333333332: 23,\n",
       " 10.333333333333334: 44,\n",
       " 12.0: 21,\n",
       " 12.333333333333332: 13,\n",
       " 12.333333333333336: 6,\n",
       " 13.0: 22,\n",
       " 14.333333333333332: 4,\n",
       " 14.333333333333336: 20,\n",
       " 16.0: 3,\n",
       " 16.333333333333332: 14,\n",
       " 16.333333333333336: 6,\n",
       " 17.333333333333332: 2,\n",
       " 19.0: 4,\n",
       " 20.333333333333336: 1,\n",
       " 21.0: 2,\n",
       " 21.333333333333336: 2,\n",
       " 22.333333333333336: 2,\n",
       " 24.333333333333332: 1,\n",
       " 27.0: 1,\n",
       " 28.0: 2}"
      ]
     },
     "execution_count": 16,
     "metadata": {},
     "output_type": "execute_result"
    }
   ],
   "source": [
    "s2 = S2.sim(10000)\n",
    "s2.tabulate()"
   ]
  },
  {
   "cell_type": "code",
   "execution_count": 17,
   "metadata": {},
   "outputs": [
    {
     "data": {
      "image/png": "[encoded data removed]",
      "text/plain": [
       "<Figure size 432x288 with 1 Axes>"
      ]
     },
     "metadata": {
      "needs_background": "light"
     },
     "output_type": "display_data"
    }
   ],
   "source": [
    "s2.plot()"
   ]
  },
  {
   "cell_type": "code",
   "execution_count": 18,
   "metadata": {},
   "outputs": [
    {
     "data": {
      "text/plain": [
       "2.3198666666666665"
      ]
     },
     "execution_count": 18,
     "metadata": {},
     "output_type": "execute_result"
    }
   ],
   "source": [
    "s2.mean()"
   ]
  },
  {
   "cell_type": "markdown",
   "metadata": {},
   "source": [
    "## Widget might not work in Colab"
   ]
  },
  {
   "cell_type": "code",
   "execution_count": 19,
   "metadata": {},
   "outputs": [
    {
     "data": {
      "application/vnd.jupyter.widget-view+json": {
       "model_id": "90bd15c7914546ae8cb96faff78e217a",
       "version_major": 2,
       "version_minor": 0
      },
      "text/plain": [
       "interactive(children=(FloatSlider(value=1.0, description='mu', max=10.0, min=0.01, step=0.01), IntSlider(value…"
      ]
     },
     "metadata": {},
     "output_type": "display_data"
    }
   ],
   "source": [
    "from ipywidgets import interactive\n",
    "import ipywidgets as widgets\n",
    "\n",
    "def f(mu, n):\n",
    "    x = (RV(Poisson(mu) ** n, var) * n / (n - 1)).sim(10000)\n",
    "    x.plot()\n",
    "    plt.xlabel(\"Sample variance\")\n",
    "    plt.ylabel(\"Relative frequency of samples\")\n",
    "    plt.title(r\"Poisson($\\mu$): Sampling distribution of $S^2$\" +\n",
    "              \"\\n Expected value when $n=%s$\" % n +\n",
    "              \" and $\\mu=%s$\" % mu\n",
    "              + r\" is $%s$\" % round(x.mean(),0))\n",
    "    \n",
    "    # draw vertical strip at expected value\n",
    "    plt.axvline(x.mean(), 0, 1, alpha=.3, linewidth=4, color=\"orange\")\n",
    "    plt.show()\n",
    "\n",
    "interactive_plot = interactive(f, mu=widgets.FloatSlider(value=1, max=10, min=0.01, step=0.01),\n",
    "                               n=widgets.IntSlider(value=3, max=10, min=1))\n",
    "output = interactive_plot.children[-1]\n",
    "output.layout.height = '350px'\n",
    "interactive_plot"
   ]
  },
  {
   "cell_type": "code",
   "execution_count": 20,
   "metadata": {},
   "outputs": [
    {
     "data": {
      "text/html": [
       "\n",
       "<table>\n",
       "  <thead>\n",
       "    <th width=\"80%\">Outcome</th>\n",
       "    <th width=\"20%\">Value</th>\n",
       "  </thead>\n",
       "  <tbody>\n",
       "    <tr><td>0.0</td><td>461</td></tr><tr><td>0.2222222222222222</td><td>920</td></tr><tr><td>0.22222222222222224</td><td>1306</td></tr><tr><td>0.6666666666666666</td><td>1570</td></tr><tr><td>0.8888888888888888</td><td>696</td></tr><tr><td>0.888888888888889</td><td>629</td></tr><tr><td>1.5555555555555554</td><td>922</td></tr><tr><td>1.5555555555555556</td><td>719</td></tr><tr><td>2.0</td><td>635</td></tr><tr><td>2.6666666666666665</td><td>392</td></tr><tr><td>2.888888888888889</td><td>175</td></tr><tr><td>2.8888888888888893</td><td>495</td></tr><tr><td>3.5555555555555554</td><td>15</td></tr><tr><td>3.555555555555556</td><td>230</td></tr><tr><td>4.222222222222222</td><td>242</td></tr><tr><td>4.666666666666667</td><td>228</td></tr><tr><td>5.5555555555555545</td><td>26</td></tr><tr><td>5.555555555555556</td><td>60</td></tr><tr><td>6.0</td><td>46</td></tr><tr><td>...</td><td>...</td></tr><tr><td>16.22222222222222</td><td>2</td></tr><tr><td><b>Total</b></td><td><b>10000</b></td></tr>\n",
       "  </tbody>\n",
       "</table>\n"
      ],
      "text/plain": [
       "{0.0: 461,\n",
       " 0.2222222222222222: 920,\n",
       " 0.22222222222222224: 1306,\n",
       " 0.6666666666666666: 1570,\n",
       " 0.8888888888888888: 696,\n",
       " 0.888888888888889: 629,\n",
       " 1.5555555555555554: 922,\n",
       " 1.5555555555555556: 719,\n",
       " 2.0: 635,\n",
       " 2.6666666666666665: 392,\n",
       " 2.888888888888889: 175,\n",
       " 2.8888888888888893: 495,\n",
       " 3.5555555555555554: 15,\n",
       " 3.555555555555556: 230,\n",
       " 4.222222222222222: 242,\n",
       " 4.666666666666667: 228,\n",
       " 5.5555555555555545: 26,\n",
       " 5.555555555555556: 60,\n",
       " 6.0: 46,\n",
       " 6.222222222222221: 36,\n",
       " 6.222222222222222: 51,\n",
       " 6.888888888888888: 19,\n",
       " 6.888888888888889: 38,\n",
       " 8.0: 18,\n",
       " 8.222222222222221: 14,\n",
       " 8.222222222222223: 4,\n",
       " 8.666666666666666: 9,\n",
       " 9.555555555555555: 3,\n",
       " 9.555555555555557: 13,\n",
       " 10.666666666666666: 3,\n",
       " 10.888888888888888: 7,\n",
       " 10.888888888888891: 7,\n",
       " 11.555555555555555: 4,\n",
       " 12.666666666666666: 3,\n",
       " 14.222222222222223: 2,\n",
       " 16.22222222222222: 2}"
      ]
     },
     "execution_count": 20,
     "metadata": {},
     "output_type": "execute_result"
    }
   ],
   "source": [
    "sigmahat2 = Sigmahat2.sim(10000)\n",
    "sigmahat2.tabulate()"
   ]
  },
  {
   "cell_type": "code",
   "execution_count": 21,
   "metadata": {},
   "outputs": [
    {
     "data": {
      "image/png": "[encoded data removed]",
      "text/plain": [
       "<Figure size 432x288 with 1 Axes>"
      ]
     },
     "metadata": {
      "needs_background": "light"
     },
     "output_type": "display_data"
    }
   ],
   "source": [
    "sigmahat2.plot()"
   ]
  },
  {
   "cell_type": "code",
   "execution_count": 22,
   "metadata": {},
   "outputs": [
    {
     "data": {
      "text/plain": [
       "1.5019777777777776"
      ]
     },
     "execution_count": 22,
     "metadata": {},
     "output_type": "execute_result"
    }
   ],
   "source": [
    "sigmahat2.mean()"
   ]
  },
  {
   "cell_type": "code",
   "execution_count": 23,
   "metadata": {},
   "outputs": [
    {
     "data": {
      "text/plain": [
       "2.5399096686419753"
      ]
     },
     "execution_count": 23,
     "metadata": {},
     "output_type": "execute_result"
    }
   ],
   "source": [
    "sigmahat2.var()"
   ]
  },
  {
   "cell_type": "markdown",
   "metadata": {},
   "source": [
    "## Widget might not work in Colab"
   ]
  },
  {
   "cell_type": "code",
   "execution_count": 24,
   "metadata": {},
   "outputs": [
    {
     "data": {
      "application/vnd.jupyter.widget-view+json": {
       "model_id": "91fb37041f28454bb631b69477ccdbba",
       "version_major": 2,
       "version_minor": 0
      },
      "text/plain": [
       "interactive(children=(FloatSlider(value=1.0, description='mu', max=10.0, min=0.01, step=0.01), IntSlider(value…"
      ]
     },
     "metadata": {},
     "output_type": "display_data"
    }
   ],
   "source": [
    "from ipywidgets import interactive\n",
    "import ipywidgets as widgets\n",
    "\n",
    "def f(mu, n):\n",
    "    x = (RV(Poisson(mu) ** n, var)).sim(10000)\n",
    "    x.plot()\n",
    "    plt.xlabel(\"Biased sample variance\")\n",
    "    plt.ylabel(\"Relative frequency of samples\")\n",
    "    plt.title(r\"Poisson($\\mu$): Sampling distribution of $\\hat{\\sigma}^2$\" +\n",
    "              \"\\n Expected value when $n=%s$\" % n +\n",
    "              \" and $\\mu=%s$\" % mu\n",
    "              + r\" is $%s$\" % round(x.mean(),0))\n",
    "    \n",
    "    # draw vertical strip at expected value\n",
    "    plt.axvline(x.mean(), 0, 1, alpha=.3, linewidth=4, color=\"orange\")\n",
    "    plt.show()\n",
    "\n",
    "interactive_plot = interactive(f, mu=widgets.FloatSlider(value=1, max=10, min=0.01, step=0.01),\n",
    "                               n=widgets.IntSlider(value=3, max=10, min=1))\n",
    "output = interactive_plot.children[-1]\n",
    "output.layout.height = '350px'\n",
    "interactive_plot"
   ]
  },
  {
   "cell_type": "markdown",
   "metadata": {},
   "source": [
    "## Exer 3.4"
   ]
  },
  {
   "cell_type": "code",
   "execution_count": 25,
   "metadata": {},
   "outputs": [
    {
     "data": {
      "text/plain": [
       "(0.10066666666666667, 0.10025884372280375)"
      ]
     },
     "execution_count": 25,
     "metadata": {},
     "output_type": "execute_result"
    },
    {
     "data": {
      "image/png": "[encoded data removed]",
      "text/plain": [
       "<Figure size 432x288 with 1 Axes>"
      ]
     },
     "metadata": {
      "needs_background": "light"
     },
     "output_type": "display_data"
    }
   ],
   "source": [
    "Thetahat = N0 / n\n",
    "thetahat = Thetahat.sim(10000)\n",
    "thetahat.plot()\n",
    "thetahat.mean(), Poisson(mu).pmf(0)"
   ]
  },
  {
   "cell_type": "code",
   "execution_count": 26,
   "metadata": {},
   "outputs": [
    {
     "data": {
      "text/plain": [
       "1.0270872126278752"
      ]
     },
     "execution_count": 26,
     "metadata": {},
     "output_type": "execute_result"
    },
    {
     "data": {
      "image/png": "[encoded data removed]",
      "text/plain": [
       "<Figure size 432x288 with 1 Axes>"
      ]
     },
     "metadata": {
      "needs_background": "light"
     },
     "output_type": "display_data"
    }
   ],
   "source": [
    "muhat_d = (Muhat_d | (N0 > 0) ).sim(10000)\n",
    "muhat_d.plot()\n",
    "muhat_d.mean()"
   ]
  },
  {
   "cell_type": "markdown",
   "metadata": {},
   "source": [
    "### Better example: $S$ is biased estimator of population SD $\\sigma$ even though $S^2$ is an unbiased estimator of population variance $\\sigma^2$."
   ]
  },
  {
   "cell_type": "code",
   "execution_count": 27,
   "metadata": {},
   "outputs": [
    {
     "data": {
      "text/plain": [
       "(1.3155925893264706, 1.51657508881031)"
      ]
     },
     "execution_count": 27,
     "metadata": {},
     "output_type": "execute_result"
    },
    {
     "data": {
      "image/png": "[encoded data removed]",
      "text/plain": [
       "<Figure size 432x288 with 1 Axes>"
      ]
     },
     "metadata": {
      "needs_background": "light"
     },
     "output_type": "display_data"
    }
   ],
   "source": [
    "S = sqrt(S2)\n",
    "s = S.sim(10000)\n",
    "s.plot()\n",
    "s.mean(), sqrt(mu)"
   ]
  },
  {
   "cell_type": "markdown",
   "metadata": {},
   "source": [
    "## Exer 3.5"
   ]
  },
  {
   "cell_type": "code",
   "execution_count": 28,
   "metadata": {},
   "outputs": [
    {
     "data": {
      "image/png": "[encoded data removed]",
      "text/plain": [
       "<Figure size 432x288 with 1 Axes>"
      ]
     },
     "metadata": {
      "needs_background": "light"
     },
     "output_type": "display_data"
    }
   ],
   "source": [
    "xbar.plot()\n",
    "s2.plot()"
   ]
  },
  {
   "cell_type": "code",
   "execution_count": 29,
   "metadata": {},
   "outputs": [
    {
     "data": {
      "image/png": "[encoded data removed]",
      "text/plain": [
       "<Figure size 432x288 with 1 Axes>"
      ]
     },
     "metadata": {
      "needs_background": "light"
     },
     "output_type": "display_data"
    }
   ],
   "source": [
    "n = 3\n",
    "\n",
    "def Var_Xbar(mu):\n",
    "    return mu / n\n",
    "\n",
    "def Var_S2(mu):\n",
    "    return mu / n + 2 * mu ** 2 / (n - 1)\n",
    "\n",
    "plot_continuous_function(Var_Xbar, xlim=(0.01, 10),\n",
    "                         xlabel=\"$\\mu$\", ylabel=\"\")\n",
    "\n",
    "plot_continuous_function(Var_S2, xlim=(0.01, 10),\n",
    "                         xlabel=\"$\\mu$\", ylabel=r\"$Var_\\mu$\")\n",
    "\n",
    "plt.legend([r\"$Var_\\mu(\\bar{X})$\", r\"$Var_\\mu(S^2)$\"]);"
   ]
  },
  {
   "cell_type": "markdown",
   "metadata": {},
   "source": [
    "## Exer 3.6"
   ]
  },
  {
   "cell_type": "code",
   "execution_count": 30,
   "metadata": {},
   "outputs": [
    {
     "data": {
      "image/png": "[encoded data removed]",
      "text/plain": [
       "<Figure size 432x288 with 1 Axes>"
      ]
     },
     "metadata": {
      "needs_background": "light"
     },
     "output_type": "display_data"
    }
   ],
   "source": [
    "s2.plot()\n",
    "sigmahat2.plot()"
   ]
  },
  {
   "cell_type": "code",
   "execution_count": 31,
   "metadata": {},
   "outputs": [
    {
     "data": {
      "text/plain": [
       "(2.3198666666666665, 1.5019777777777776)"
      ]
     },
     "execution_count": 31,
     "metadata": {},
     "output_type": "execute_result"
    }
   ],
   "source": [
    "s2.mean(), sigmahat2.mean()"
   ]
  },
  {
   "cell_type": "code",
   "execution_count": 32,
   "metadata": {},
   "outputs": [
    {
     "data": {
      "text/plain": [
       "(6.371574204444445, 2.5399096686419753)"
      ]
     },
     "execution_count": 32,
     "metadata": {},
     "output_type": "execute_result"
    }
   ],
   "source": [
    "s2.var(), sigmahat2.var()"
   ]
  },
  {
   "cell_type": "code",
   "execution_count": 33,
   "metadata": {},
   "outputs": [
    {
     "data": {
      "text/plain": [
       "(6.371574204444445, 3.176749135802469)"
      ]
     },
     "execution_count": 33,
     "metadata": {},
     "output_type": "execute_result"
    }
   ],
   "source": [
    "s2.var(), sigmahat2.var() + (sigmahat2.mean() - mu) ** 2"
   ]
  },
  {
   "cell_type": "code",
   "execution_count": 34,
   "metadata": {},
   "outputs": [
    {
     "data": {
      "image/png": "[encoded data removed]",
      "text/plain": [
       "<Figure size 432x288 with 1 Axes>"
      ]
     },
     "metadata": {
      "needs_background": "light"
     },
     "output_type": "display_data"
    }
   ],
   "source": [
    "n = 3\n",
    "\n",
    "def MSE_S2(mu):\n",
    "    return mu / n + 2 * mu ** 2 / (n - 1) + 0 ** 2\n",
    "\n",
    "def MSE_Sigmahat2(mu):\n",
    "    return ((n - 1) / n) ** 2 * MSE_S2(mu) + (-mu / n) ** 2\n",
    "\n",
    "plot_continuous_function(MSE_Sigmahat2, xlim=(0.01, 10),\n",
    "                         xlabel=\"$\\mu$\", ylabel=\"\")\n",
    "\n",
    "plot_continuous_function(MSE_S2, xlim=(0.01, 10),\n",
    "                         xlabel=\"$\\mu$\", ylabel=r\"$MSE_\\mu$\")\n",
    "\n",
    "plt.legend([r\"$MSE_\\mu(\\hat{\\sigma}^2)$\", r\"$MSE_\\mu(S^2)$\"]);"
   ]
  },
  {
   "cell_type": "markdown",
   "metadata": {},
   "source": [
    "## Exer 3.7"
   ]
  },
  {
   "cell_type": "code",
   "execution_count": 35,
   "metadata": {},
   "outputs": [
    {
     "data": {
      "image/png": "[encoded data removed]",
      "text/plain": [
       "<Figure size 432x288 with 1 Axes>"
      ]
     },
     "metadata": {
      "needs_background": "light"
     },
     "output_type": "display_data"
    }
   ],
   "source": [
    "n = 3\n",
    "\n",
    "def MSE_Xbar(mu):\n",
    "    return mu / n + 0 ** 2 # variability but no bias\n",
    "\n",
    "def MSE_Muhat_e(mu):\n",
    "    return 0 + (2.3 - mu) ** 2 # bias but no variability\n",
    "\n",
    "plot_continuous_function(MSE_Xbar, xlim=(0.01, 10),\n",
    "                         xlabel=\"$\\mu$\", ylabel=\"\")\n",
    "\n",
    "plot_continuous_function(MSE_Muhat_e, xlim=(0.01, 10),\n",
    "                         xlabel=\"$\\mu$\", ylabel=r\"$MSE_\\mu$\")\n",
    "\n",
    "plt.legend([r\"$MSE_\\mu(\\bar{X})$\", r\"$MSE_\\mu(2.3)$\"]);"
   ]
  },
  {
   "cell_type": "code",
   "execution_count": null,
   "metadata": {},
   "outputs": [],
   "source": []
  }
 ],
 "metadata": {
  "kernelspec": {
   "display_name": "Python 3",
   "language": "python",
   "name": "python3"
  },
  "language_info": {
   "codemirror_mode": {
    "name": "ipython",
    "version": 3
   },
   "file_extension": ".py",
   "mimetype": "text/x-python",
   "name": "python",
   "nbconvert_exporter": "python",
   "pygments_lexer": "ipython3",
   "version": "3.7.3"
  }
 },
 "nbformat": 4,
 "nbformat_minor": 2
}
